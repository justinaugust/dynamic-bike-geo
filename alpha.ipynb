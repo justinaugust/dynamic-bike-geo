{
 "cells": [
  {
   "cell_type": "code",
   "execution_count": 26,
   "metadata": {},
   "outputs": [],
   "source": [
    "import pandas as pd\n",
    "import altair as alt\n",
    "import numpy as np\n",
    "from shapely.geometry import Point, MultiPoint"
   ]
  },
  {
   "cell_type": "code",
   "execution_count": 55,
   "metadata": {},
   "outputs": [
    {
     "data": {
      "text/html": [
       "<div>\n",
       "<style scoped>\n",
       "    .dataframe tbody tr th:only-of-type {\n",
       "        vertical-align: middle;\n",
       "    }\n",
       "\n",
       "    .dataframe tbody tr th {\n",
       "        vertical-align: top;\n",
       "    }\n",
       "\n",
       "    .dataframe thead th {\n",
       "        text-align: right;\n",
       "    }\n",
       "</style>\n",
       "<table border=\"1\" class=\"dataframe\">\n",
       "  <thead>\n",
       "    <tr style=\"text-align: right;\">\n",
       "      <th></th>\n",
       "      <th>index</th>\n",
       "      <th>circumference</th>\n",
       "    </tr>\n",
       "  </thead>\n",
       "  <tbody>\n",
       "    <tr>\n",
       "      <th>0</th>\n",
       "      <td>650b</td>\n",
       "      <td>584</td>\n",
       "    </tr>\n",
       "    <tr>\n",
       "      <th>1</th>\n",
       "      <td>700c</td>\n",
       "      <td>622</td>\n",
       "    </tr>\n",
       "  </tbody>\n",
       "</table>\n",
       "</div>"
      ],
      "text/plain": [
       "  index  circumference\n",
       "0  650b            584\n",
       "1  700c            622"
      ]
     },
     "execution_count": 55,
     "metadata": {},
     "output_type": "execute_result"
    }
   ],
   "source": [
    "wheelsizes = {\n",
    "    '650b': { 'circumference': 584,},\n",
    "    '700c': { 'circumference': 622}\n",
    "             }\n",
    "wheelsizes = pd.DataFrame(wheelsizes).T.reset_index()\n",
    "wheelsizes"
   ]
  },
  {
   "cell_type": "code",
   "execution_count": 53,
   "metadata": {},
   "outputs": [],
   "source": [
    "bikes = {'trek_710' : {'Seat Tube Length, C-T': 600,\n",
    "            'Top Tube Length, Actual C-C': 575,\n",
    "            'Top Tube Slope':0,\n",
    "            'Head Tube Angle':73.5,\n",
    "            'Seat Tube Angle':73,\n",
    "            'Bottom Bracket Drop':72,\n",
    "            'Chainstay Length':435,\n",
    "            'Fork Offset/Rake':55,\n",
    "            'Wheelbase':1028,\n",
    "            'Fork A/C':365,\n",
    "                \n",
    "                      \n",
    "                      \n",
    "                      }\n",
    "        }"
   ]
  },
  {
   "cell_type": "code",
   "execution_count": 54,
   "metadata": {},
   "outputs": [
    {
     "data": {
      "text/html": [
       "<div>\n",
       "<style scoped>\n",
       "    .dataframe tbody tr th:only-of-type {\n",
       "        vertical-align: middle;\n",
       "    }\n",
       "\n",
       "    .dataframe tbody tr th {\n",
       "        vertical-align: top;\n",
       "    }\n",
       "\n",
       "    .dataframe thead th {\n",
       "        text-align: right;\n",
       "    }\n",
       "</style>\n",
       "<table border=\"1\" class=\"dataframe\">\n",
       "  <thead>\n",
       "    <tr style=\"text-align: right;\">\n",
       "      <th></th>\n",
       "      <th>index</th>\n",
       "      <th>Bottom Bracket Drop</th>\n",
       "      <th>Chainstay Length</th>\n",
       "      <th>Fork A/C</th>\n",
       "      <th>Fork Offset/Rake</th>\n",
       "      <th>Head Tube Angle</th>\n",
       "      <th>Seat Tube Angle</th>\n",
       "      <th>Seat Tube Length, C-T</th>\n",
       "      <th>Top Tube Length, Actual C-C</th>\n",
       "      <th>Top Tube Slope</th>\n",
       "      <th>Wheelbase</th>\n",
       "    </tr>\n",
       "  </thead>\n",
       "  <tbody>\n",
       "    <tr>\n",
       "      <th>0</th>\n",
       "      <td>trek_710</td>\n",
       "      <td>72.0</td>\n",
       "      <td>435.0</td>\n",
       "      <td>365.0</td>\n",
       "      <td>55.0</td>\n",
       "      <td>73.5</td>\n",
       "      <td>73.0</td>\n",
       "      <td>600.0</td>\n",
       "      <td>575.0</td>\n",
       "      <td>0.0</td>\n",
       "      <td>1028.0</td>\n",
       "    </tr>\n",
       "  </tbody>\n",
       "</table>\n",
       "</div>"
      ],
      "text/plain": [
       "      index  Bottom Bracket Drop  Chainstay Length  Fork A/C  \\\n",
       "0  trek_710                 72.0             435.0     365.0   \n",
       "\n",
       "   Fork Offset/Rake  Head Tube Angle  Seat Tube Angle  Seat Tube Length, C-T  \\\n",
       "0              55.0             73.5             73.0                  600.0   \n",
       "\n",
       "   Top Tube Length, Actual C-C  Top Tube Slope  Wheelbase  \n",
       "0                        575.0             0.0     1028.0  "
      ]
     },
     "execution_count": 54,
     "metadata": {},
     "output_type": "execute_result"
    }
   ],
   "source": [
    "df = pd.DataFrame(bikes).T.reset_index()\n",
    "df"
   ]
  },
  {
   "cell_type": "code",
   "execution_count": null,
   "metadata": {},
   "outputs": [],
   "source": [
    "x = radius *  cos(angle)\n",
    "y = radius *  sin(angle)"
   ]
  },
  {
   "cell_type": "code",
   "execution_count": null,
   "metadata": {},
   "outputs": [],
   "source": [
    "bike_model = 'trek_710'\n",
    "wheelsize = '650b'\n",
    "tiresize = 42\n",
    "axle_y = (wheelsizes.loc[wheelsizes['index'] == wheelsize, 'circumference']/(2*(np.pi))) + tiresize\n",
    "rear_axle_x = 42 + \n",
    "bb = Point(0,(axle_y - df.loc[df['index'] == bike_model, 'Bottom Bracket Drop']))\n",
    "\n",
    "seat_lug_x = bb.x + df.loc[df['index'] == bike_model, 'Seat Tube Length, C-T'] * np.cos(90 - df.loc[df['index'] == bike_model, 'Seat Tube Angle'])\n",
    "seat_lug_y = bb.y - df.loc[df['index'] == bike_model, 'Seat Tube Length, C-T'] * np.sin(df.loc[df['index'] == bike_model, 'Seat Tube Angle'])\n",
    "seat_lug = Point(seat_lug_x, seat_lug_y)\n",
    "\n",
    "tt_ht_joint_x = (seat_lug.x + df.loc[df['index'] == bike_model, 'Top Tube Length, Actual C-C'])\n",
    "tt_ht_joint = Point(tt_ht_joint_x, seat_lug.y)\n",
    "\n",
    "\n",
    "rear_axle = Point( ,axle_y)\n",
    "front_axle = Point( ,axle_y)\n",
    "# ht_bot"
   ]
  },
  {
   "cell_type": "code",
   "execution_count": 62,
   "metadata": {},
   "outputs": [
    {
     "data": {
      "text/plain": [
       "0    92.946487\n",
       "Name: circumference, dtype: float64"
      ]
     },
     "execution_count": 62,
     "metadata": {},
     "output_type": "execute_result"
    }
   ],
   "source": []
  },
  {
   "cell_type": "code",
   "execution_count": 49,
   "metadata": {},
   "outputs": [
    {
     "data": {
      "text/plain": [
       "-165.09800283095817"
      ]
     },
     "execution_count": 49,
     "metadata": {},
     "output_type": "execute_result"
    }
   ],
   "source": [
    "seat_lug.x"
   ]
  },
  {
   "cell_type": "code",
   "execution_count": 50,
   "metadata": {},
   "outputs": [
    {
     "data": {
      "text/plain": [
       "409.9019971690418"
      ]
     },
     "execution_count": 50,
     "metadata": {},
     "output_type": "execute_result"
    }
   ],
   "source": [
    "tt_ht_joint.x"
   ]
  },
  {
   "cell_type": "code",
   "execution_count": 51,
   "metadata": {},
   "outputs": [],
   "source": [
    "bike = MultiPoint(points = list([bb,\n",
    "                               seat_lug,\n",
    "                               tt_ht_joint,\n",
    "                                ])\n",
    "                 )\n",
    "bike"
   ]
  },
  {
   "cell_type": "code",
   "execution_count": null,
   "metadata": {},
   "outputs": [],
   "source": []
  }
 ],
 "metadata": {
  "kernelspec": {
   "display_name": "Python [conda env:bikegeo]",
   "language": "python",
   "name": "conda-env-bikegeo-py"
  },
  "language_info": {
   "codemirror_mode": {
    "name": "ipython",
    "version": 3
   },
   "file_extension": ".py",
   "mimetype": "text/x-python",
   "name": "python",
   "nbconvert_exporter": "python",
   "pygments_lexer": "ipython3",
   "version": "3.7.5"
  }
 },
 "nbformat": 4,
 "nbformat_minor": 2
}
